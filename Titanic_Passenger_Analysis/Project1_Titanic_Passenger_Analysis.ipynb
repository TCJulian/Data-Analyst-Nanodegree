{
 "cells": [
  {
   "cell_type": "markdown",
   "metadata": {},
   "source": [
    "# Titanic Passenger Analysis\n",
    "\n",
    "*By Tyler Julian   \n",
    "Udacity Data Analyst Project 1*\n",
    "\n",
    "**Updated 8/18/2017**"
   ]
  },
  {
   "cell_type": "markdown",
   "metadata": {},
   "source": [
    "![picture alt](http://blog.nyhistory.org/wp-content/uploads/2012/04/Ships-Titanic-enhanced.jpg)"
   ]
  },
  {
   "cell_type": "markdown",
   "metadata": {},
   "source": [
    "## Introduction"
   ]
  },
  {
   "cell_type": "markdown",
   "metadata": {},
   "source": [
    "This analysis consists of importing a dataset in Python and working through the entire data analysis process: \n",
    "\n",
    "**Questions** \n",
    "* The process starts by asking questions about the dataset that seek to be answered.\n",
    "* These questions are ultimately what need to be explored and answered by the end of the analysis.\n",
    "    \n",
    "    \n",
    "**Data Wrangling**\n",
    "* This phase is where missing values are dealt with and variables within the dataset are transformed into datatypes that are usable for test statistics and visualization.\n",
    "* By the end of this phase, the dataset should be in a form that is ready for analysis.\n",
    "    \n",
    "    \n",
    "**Exploration**\n",
    "* Once the data is properly edited, each variable is investigated in detail. Deeper analysis is done to find answers and information about the original questions. \n",
    "* Visualizations and statistical tests are also performed to confirm the validity of findings and are used to communicate the results in the conclusion.\n",
    "    \n",
    "    \n",
    "**Conclusion**\n",
    "* Here, all of the major findings related to the originally posed questions are presented, along with the limitations to the project as well as any resources used for the analysis.  \n"
   ]
  },
  {
   "cell_type": "markdown",
   "metadata": {},
   "source": [
    "## Navigation and Notes\n",
    "\n",
    "The table of contents below features each section and can be used to navigate the project quckly.\n",
    "\n",
    "The data used for this analysis is sample passenger data for the RMS Titanic. This data can be found at [this Kaggle webpage](https://www.kaggle.com/c/titanic/data).\n",
    "\n",
    "This analysis is part of an evaluated project for the [Udacity Data Analyst Nanodegree](https://www.udacity.com/course/data-analyst-nanodegree--nd002)."
   ]
  },
  {
   "cell_type": "markdown",
   "metadata": {},
   "source": [
    "## Sections\n",
    "\n",
    "1. Questions\n",
    "  * [Intro](#Questions)\n",
    "  * [Import Libraries and Data](#Import-Libraries-and-Data)\n",
    "  * [First Glance into the Dataset](#First-Glance-into-the-Dataset)\n",
    "2. Data Wrangling\n",
    "  * [Intro](#Data-Wrangling)\n",
    "  * [Checking for Missing Values](#Checking-for-Missing-Values)\n",
    "  * [Handling Missing Values](#Handling-Missing-Values)\n",
    "  * [Dropping Columns](#Dropping-Columns/Rows)   \n",
    "  * [Transforming Columns](#Transforming-Columns/Rows)\n",
    "  * [Result](#Result)\n",
    "3. Exploration\n",
    "  * [Intro](#Exploration)\n",
    "  * [The Passengers](#The-Passengers)\n",
    "  * [The Survivors](#The-Survivors)\n",
    "  * Passenger/Survivor Comparison\n",
    "    * [Intro](#Passengers-vs-Survivors)\n",
    "    * [Gender](#Gender-Comparison)\n",
    "    * [Age](#Age-Comparison)\n",
    "    * [Social Class](#Social-Class-Comparison)\n",
    "    * [Fare](#Fare-Comparison)\n",
    "    * [Embarkation](#Embarkation-Comparison)\n",
    "4. Conclusion\n",
    "  * [Intro](#Conclusion)\n",
    "  * [Review Questions](#Review-Questions)\n",
    "  * [Findings](#Findings)\n",
    "  * [Limitations](#Limitations)"
   ]
  },
  {
   "cell_type": "markdown",
   "metadata": {},
   "source": [
    "## Questions\n",
    "\n",
    "[[back to top]](#Introduction)\n",
    "\n",
    "Every analysis starts by coming up with questions for exploration. The questions below will be revisited at the end of the project with the results from the analysis."
   ]
  },
  {
   "cell_type": "markdown",
   "metadata": {},
   "source": [
    "1. What did the surviving group look like and were there any possible correlations between the variables and surviving?\n",
    "    2. Age:\n",
    "        * Did children have the same or better chances of surviving compared to adults? What about older people?\n",
    "    3.  Gender:\n",
    "        * Were women prioritized for surviving over men, thus leading to a higher chance of survival?\n",
    "    * Social Class:\n",
    "        * What effects did social class have on one's chance of surviving?\n",
    "    * Port Embarkation:\n",
    "        * What ports had a larger percentage of their individuals survive?\n",
    "    * Fare:\n",
    "        * Did passengers that paid more for there ticket have a greater chance of surviving?"
   ]
  },
  {
   "cell_type": "markdown",
   "metadata": {},
   "source": [
    "### Import Libraries and Data \n",
    "\n",
    "Before anything can be done, the dataset has to be loaded into Python. Different python packages and modules also need to be imported for use throughout the project."
   ]
  },
  {
   "cell_type": "code",
   "execution_count": 1,
   "metadata": {
    "collapsed": true
   },
   "outputs": [],
   "source": [
    "import matplotlib.pyplot as plt\n",
    "import pandas as pd\n",
    "import numpy as np\n",
    "import scipy.stats as stats\n",
    "import seaborn as sns\n",
    "\n",
    "%matplotlib inline\n",
    "\n",
    "# Import data into a pandas dataframe\n",
    "path = 'C:\\Users\\Tyler\\Documents\\python\\project1'\n",
    "with open(path + '\\\\titanic-data.csv', 'r') as file:\n",
    "    titanic_df = pd.read_csv(file)"
   ]
  },
  {
   "cell_type": "markdown",
   "metadata": {},
   "source": [
    "### First Glance into the Dataset"
   ]
  },
  {
   "cell_type": "markdown",
   "metadata": {},
   "source": [
    "With the data loaded, a sample of entries can be generated:"
   ]
  },
  {
   "cell_type": "code",
   "execution_count": 2,
   "metadata": {},
   "outputs": [
    {
     "data": {
      "text/html": [
       "<div>\n",
       "<style>\n",
       "    .dataframe thead tr:only-child th {\n",
       "        text-align: right;\n",
       "    }\n",
       "\n",
       "    .dataframe thead th {\n",
       "        text-align: left;\n",
       "    }\n",
       "\n",
       "    .dataframe tbody tr th {\n",
       "        vertical-align: top;\n",
       "    }\n",
       "</style>\n",
       "<table border=\"1\" class=\"dataframe\">\n",
       "  <thead>\n",
       "    <tr style=\"text-align: right;\">\n",
       "      <th></th>\n",
       "      <th>PassengerId</th>\n",
       "      <th>Survived</th>\n",
       "      <th>Pclass</th>\n",
       "      <th>Name</th>\n",
       "      <th>Sex</th>\n",
       "      <th>Age</th>\n",
       "      <th>SibSp</th>\n",
       "      <th>Parch</th>\n",
       "      <th>Ticket</th>\n",
       "      <th>Fare</th>\n",
       "      <th>Cabin</th>\n",
       "      <th>Embarked</th>\n",
       "    </tr>\n",
       "  </thead>\n",
       "  <tbody>\n",
       "    <tr>\n",
       "      <th>0</th>\n",
       "      <td>1</td>\n",
       "      <td>0</td>\n",
       "      <td>3</td>\n",
       "      <td>Braund, Mr. Owen Harris</td>\n",
       "      <td>male</td>\n",
       "      <td>22.0</td>\n",
       "      <td>1</td>\n",
       "      <td>0</td>\n",
       "      <td>A/5 21171</td>\n",
       "      <td>7.2500</td>\n",
       "      <td>NaN</td>\n",
       "      <td>S</td>\n",
       "    </tr>\n",
       "    <tr>\n",
       "      <th>1</th>\n",
       "      <td>2</td>\n",
       "      <td>1</td>\n",
       "      <td>1</td>\n",
       "      <td>Cumings, Mrs. John Bradley (Florence Briggs Th...</td>\n",
       "      <td>female</td>\n",
       "      <td>38.0</td>\n",
       "      <td>1</td>\n",
       "      <td>0</td>\n",
       "      <td>PC 17599</td>\n",
       "      <td>71.2833</td>\n",
       "      <td>C85</td>\n",
       "      <td>C</td>\n",
       "    </tr>\n",
       "    <tr>\n",
       "      <th>2</th>\n",
       "      <td>3</td>\n",
       "      <td>1</td>\n",
       "      <td>3</td>\n",
       "      <td>Heikkinen, Miss. Laina</td>\n",
       "      <td>female</td>\n",
       "      <td>26.0</td>\n",
       "      <td>0</td>\n",
       "      <td>0</td>\n",
       "      <td>STON/O2. 3101282</td>\n",
       "      <td>7.9250</td>\n",
       "      <td>NaN</td>\n",
       "      <td>S</td>\n",
       "    </tr>\n",
       "    <tr>\n",
       "      <th>3</th>\n",
       "      <td>4</td>\n",
       "      <td>1</td>\n",
       "      <td>1</td>\n",
       "      <td>Futrelle, Mrs. Jacques Heath (Lily May Peel)</td>\n",
       "      <td>female</td>\n",
       "      <td>35.0</td>\n",
       "      <td>1</td>\n",
       "      <td>0</td>\n",
       "      <td>113803</td>\n",
       "      <td>53.1000</td>\n",
       "      <td>C123</td>\n",
       "      <td>S</td>\n",
       "    </tr>\n",
       "    <tr>\n",
       "      <th>4</th>\n",
       "      <td>5</td>\n",
       "      <td>0</td>\n",
       "      <td>3</td>\n",
       "      <td>Allen, Mr. William Henry</td>\n",
       "      <td>male</td>\n",
       "      <td>35.0</td>\n",
       "      <td>0</td>\n",
       "      <td>0</td>\n",
       "      <td>373450</td>\n",
       "      <td>8.0500</td>\n",
       "      <td>NaN</td>\n",
       "      <td>S</td>\n",
       "    </tr>\n",
       "    <tr>\n",
       "      <th>5</th>\n",
       "      <td>6</td>\n",
       "      <td>0</td>\n",
       "      <td>3</td>\n",
       "      <td>Moran, Mr. James</td>\n",
       "      <td>male</td>\n",
       "      <td>NaN</td>\n",
       "      <td>0</td>\n",
       "      <td>0</td>\n",
       "      <td>330877</td>\n",
       "      <td>8.4583</td>\n",
       "      <td>NaN</td>\n",
       "      <td>Q</td>\n",
       "    </tr>\n",
       "    <tr>\n",
       "      <th>6</th>\n",
       "      <td>7</td>\n",
       "      <td>0</td>\n",
       "      <td>1</td>\n",
       "      <td>McCarthy, Mr. Timothy J</td>\n",
       "      <td>male</td>\n",
       "      <td>54.0</td>\n",
       "      <td>0</td>\n",
       "      <td>0</td>\n",
       "      <td>17463</td>\n",
       "      <td>51.8625</td>\n",
       "      <td>E46</td>\n",
       "      <td>S</td>\n",
       "    </tr>\n",
       "    <tr>\n",
       "      <th>7</th>\n",
       "      <td>8</td>\n",
       "      <td>0</td>\n",
       "      <td>3</td>\n",
       "      <td>Palsson, Master. Gosta Leonard</td>\n",
       "      <td>male</td>\n",
       "      <td>2.0</td>\n",
       "      <td>3</td>\n",
       "      <td>1</td>\n",
       "      <td>349909</td>\n",
       "      <td>21.0750</td>\n",
       "      <td>NaN</td>\n",
       "      <td>S</td>\n",
       "    </tr>\n",
       "    <tr>\n",
       "      <th>8</th>\n",
       "      <td>9</td>\n",
       "      <td>1</td>\n",
       "      <td>3</td>\n",
       "      <td>Johnson, Mrs. Oscar W (Elisabeth Vilhelmina Berg)</td>\n",
       "      <td>female</td>\n",
       "      <td>27.0</td>\n",
       "      <td>0</td>\n",
       "      <td>2</td>\n",
       "      <td>347742</td>\n",
       "      <td>11.1333</td>\n",
       "      <td>NaN</td>\n",
       "      <td>S</td>\n",
       "    </tr>\n",
       "    <tr>\n",
       "      <th>9</th>\n",
       "      <td>10</td>\n",
       "      <td>1</td>\n",
       "      <td>2</td>\n",
       "      <td>Nasser, Mrs. Nicholas (Adele Achem)</td>\n",
       "      <td>female</td>\n",
       "      <td>14.0</td>\n",
       "      <td>1</td>\n",
       "      <td>0</td>\n",
       "      <td>237736</td>\n",
       "      <td>30.0708</td>\n",
       "      <td>NaN</td>\n",
       "      <td>C</td>\n",
       "    </tr>\n",
       "  </tbody>\n",
       "</table>\n",
       "</div>"
      ],
      "text/plain": [
       "   PassengerId  Survived  Pclass  \\\n",
       "0            1         0       3   \n",
       "1            2         1       1   \n",
       "2            3         1       3   \n",
       "3            4         1       1   \n",
       "4            5         0       3   \n",
       "5            6         0       3   \n",
       "6            7         0       1   \n",
       "7            8         0       3   \n",
       "8            9         1       3   \n",
       "9           10         1       2   \n",
       "\n",
       "                                                Name     Sex   Age  SibSp  \\\n",
       "0                            Braund, Mr. Owen Harris    male  22.0      1   \n",
       "1  Cumings, Mrs. John Bradley (Florence Briggs Th...  female  38.0      1   \n",
       "2                             Heikkinen, Miss. Laina  female  26.0      0   \n",
       "3       Futrelle, Mrs. Jacques Heath (Lily May Peel)  female  35.0      1   \n",
       "4                           Allen, Mr. William Henry    male  35.0      0   \n",
       "5                                   Moran, Mr. James    male   NaN      0   \n",
       "6                            McCarthy, Mr. Timothy J    male  54.0      0   \n",
       "7                     Palsson, Master. Gosta Leonard    male   2.0      3   \n",
       "8  Johnson, Mrs. Oscar W (Elisabeth Vilhelmina Berg)  female  27.0      0   \n",
       "9                Nasser, Mrs. Nicholas (Adele Achem)  female  14.0      1   \n",
       "\n",
       "   Parch            Ticket     Fare Cabin Embarked  \n",
       "0      0         A/5 21171   7.2500   NaN        S  \n",
       "1      0          PC 17599  71.2833   C85        C  \n",
       "2      0  STON/O2. 3101282   7.9250   NaN        S  \n",
       "3      0            113803  53.1000  C123        S  \n",
       "4      0            373450   8.0500   NaN        S  \n",
       "5      0            330877   8.4583   NaN        Q  \n",
       "6      0             17463  51.8625   E46        S  \n",
       "7      1            349909  21.0750   NaN        S  \n",
       "8      2            347742  11.1333   NaN        S  \n",
       "9      0            237736  30.0708   NaN        C  "
      ]
     },
     "execution_count": 2,
     "metadata": {},
     "output_type": "execute_result"
    }
   ],
   "source": [
    "titanic_df.head(10)"
   ]
  },
  {
   "cell_type": "markdown",
   "metadata": {},
   "source": [
    "***\n",
    "\n",
    "By looking at a slice of the data, the user can get a better understanding of the variables in the dataset and determine whether the variables are suitable for analysis in their current form.\n",
    "\n",
    "**Interesting points to note:**\n",
    "\n",
    "* Some columns, such as \"Age\",  have missing values (NaNs). These values will need to be considered throughout the analysis in order to not misrepresent the data. Columns with NaN values will have to be revisited in the Data Wrangling phase and edited accordingly.\n",
    "* Many columns have integers as values. Basic statistics can be easily extracted from these values with little to no editing. \n",
    "* The \"Sex\" and \"Embark\" columns currently consist of strings rather than integers. These columns will need to be transformed if any statistical correlation analysis or visualization is to be done. \n",
    "* The \"Cabin\" column seems to have a lot of NaNs, at least based off of this slice. This column might not be complete enough for rigorous analysis and could be removed, especially since \"Cabin\" is not one of the variables of interest in this project."
   ]
  },
  {
   "cell_type": "markdown",
   "metadata": {},
   "source": [
    "## Data Wrangling\n",
    "\n",
    "[[back to top]](#Introduction)\n",
    "\n",
    "With a preliminary look into the dataset now complete, the data needs to go through the Data Wrangling phase. The data has already been extracted. Now it needs to be prepped for analysis. This section will start by calculating, evaluating, and handling the missing values in each column. Variables that are not being explored in this project will also be dealt with. Certain columns' values will also be transformed so that they can be used later in the analysis. "
   ]
  },
  {
   "cell_type": "markdown",
   "metadata": {},
   "source": [
    "### Checking for Missing Values"
   ]
  },
  {
   "cell_type": "markdown",
   "metadata": {},
   "source": [
    "As mentioned earlier, there were a couple of missing values (NaNs) in the dataset. Knowing which columns contain NaNs and their count will be helpful in determining whether any changes need to be made to utilize the data, or if the data will be usable at all."
   ]
  },
  {
   "cell_type": "code",
   "execution_count": 3,
   "metadata": {},
   "outputs": [
    {
     "name": "stdout",
     "output_type": "stream",
     "text": [
      "PassengerId      0\n",
      "Survived         0\n",
      "Pclass           0\n",
      "Name             0\n",
      "Sex              0\n",
      "Age            177\n",
      "SibSp            0\n",
      "Parch            0\n",
      "Ticket           0\n",
      "Fare             0\n",
      "Cabin          687\n",
      "Embarked         2\n",
      "dtype: int64\n"
     ]
    }
   ],
   "source": [
    "# Using the built-in pandas function isnull(), the missing values in the dataset can be easily found.\n",
    "NaN_counts = titanic_df.isnull().sum()\n",
    "\n",
    "print(NaN_counts)"
   ]
  },
  {
   "cell_type": "code",
   "execution_count": 4,
   "metadata": {},
   "outputs": [
    {
     "name": "stdout",
     "output_type": "stream",
     "text": [
      "Age: 0.198653198653\n",
      "Cabin: 0.771043771044\n",
      "Embarked: 0.00224466891134\n"
     ]
    }
   ],
   "source": [
    "# print out NaN count percentages\n",
    "print(\"Age: {}\".format(float(NaN_counts[\"Age\"]) / titanic_df.shape[0]))\n",
    "print(\"Cabin: {}\".format(float(NaN_counts[\"Cabin\"]) / titanic_df.shape[0]))\n",
    "print(\"Embarked: {}\".format(float(NaN_counts[\"Embarked\"]) / titanic_df.shape[0]))"
   ]
  },
  {
   "cell_type": "markdown",
   "metadata": {},
   "source": [
    "As can be seen from the outputs above, there are a few columns that have a significant amount of missing values. The \"Age\" column is missing roughly 20% of its values, while the \"Cabin\" column is missing over 75% of its values. \"Embarked\" only has two missing values in total."
   ]
  },
  {
   "cell_type": "markdown",
   "metadata": {},
   "source": [
    "### Handling Missing Values"
   ]
  },
  {
   "cell_type": "markdown",
   "metadata": {},
   "source": [
    "Thus the questions arises: how will missing values be dealt with in this dataset?\n",
    "\n",
    "* One option is to drop any column or rows with NaNs entirely. An issue with this method is that some good, usable data is also lost in the process.\n",
    "* Another option would be to fill in the NaNs with a different value. However, for some columns (such as Age), this could prove quite problematic, as changing NaNs to a value such as 0 would directly influence the mean, median, and other important statistics of the data.\n",
    "* The final option is to keep the NaNs entirely and make sure that any functions used on the data consider the missing values in their calculations.\n",
    "\n",
    "The route this analysis will be taking to deal with missing values is a combination of two of the options:\n",
    "1. The NaNs in the \"Age\" column will remain in the dataset. Removing the \"Age\" column or rows with NaN values would take away too much usable data. Instead, this analysis will perform statistics on the \"Age\" variable with missing values in mind.\n",
    "2. The \"Embarked\" column will be investigated further to see if the records with the missing values have other variables with missing values. If there are multiple NaNs, the column will be dropped. If not, it will recieve the same treatment as the \"Age\" column.\n",
    "3. The \"Cabin\" column is going to be dropped entirely, due to there being too much missing data."
   ]
  },
  {
   "cell_type": "markdown",
   "metadata": {},
   "source": [
    "### Dropping Columns/Rows\n",
    "\n",
    "Since this analysis is not focused on the name, cabin, parentel/child relationships, siblings/spouse relationships, or the ticket information variables, they are dropped from the dataset."
   ]
  },
  {
   "cell_type": "code",
   "execution_count": 5,
   "metadata": {
    "collapsed": true
   },
   "outputs": [],
   "source": [
    "titanic_df.drop(\"Cabin\", inplace=True, axis=1)\n",
    "titanic_df.drop(\"Name\", inplace=True, axis=1)\n",
    "titanic_df.drop(\"Ticket\", inplace=True, axis=1)\n",
    "titanic_df.drop(\"Parch\", inplace=True, axis=1)\n",
    "titanic_df.drop(\"SibSp\", inplace=True, axis=1)"
   ]
  },
  {
   "cell_type": "markdown",
   "metadata": {},
   "source": [
    "Although the \"Age\" column does contain a large amount of NaN values, a lot of other valuable data would be lost if the \"Age\" column was dropped entirely. As a result, this variable will remain unchanged.\n",
    "\n",
    "However, further investigation of the records containing the \"Embarked\" NaN values is required to see if the two records should be dropped."
   ]
  },
  {
   "cell_type": "code",
   "execution_count": 6,
   "metadata": {},
   "outputs": [
    {
     "data": {
      "text/html": [
       "<div>\n",
       "<style>\n",
       "    .dataframe thead tr:only-child th {\n",
       "        text-align: right;\n",
       "    }\n",
       "\n",
       "    .dataframe thead th {\n",
       "        text-align: left;\n",
       "    }\n",
       "\n",
       "    .dataframe tbody tr th {\n",
       "        vertical-align: top;\n",
       "    }\n",
       "</style>\n",
       "<table border=\"1\" class=\"dataframe\">\n",
       "  <thead>\n",
       "    <tr style=\"text-align: right;\">\n",
       "      <th></th>\n",
       "      <th>PassengerId</th>\n",
       "      <th>Survived</th>\n",
       "      <th>Pclass</th>\n",
       "      <th>Sex</th>\n",
       "      <th>Age</th>\n",
       "      <th>Fare</th>\n",
       "      <th>Embarked</th>\n",
       "    </tr>\n",
       "  </thead>\n",
       "  <tbody>\n",
       "    <tr>\n",
       "      <th>61</th>\n",
       "      <td>62</td>\n",
       "      <td>1</td>\n",
       "      <td>1</td>\n",
       "      <td>female</td>\n",
       "      <td>38.0</td>\n",
       "      <td>80.0</td>\n",
       "      <td>NaN</td>\n",
       "    </tr>\n",
       "    <tr>\n",
       "      <th>829</th>\n",
       "      <td>830</td>\n",
       "      <td>1</td>\n",
       "      <td>1</td>\n",
       "      <td>female</td>\n",
       "      <td>62.0</td>\n",
       "      <td>80.0</td>\n",
       "      <td>NaN</td>\n",
       "    </tr>\n",
       "  </tbody>\n",
       "</table>\n",
       "</div>"
      ],
      "text/plain": [
       "     PassengerId  Survived  Pclass     Sex   Age  Fare Embarked\n",
       "61            62         1       1  female  38.0  80.0      NaN\n",
       "829          830         1       1  female  62.0  80.0      NaN"
      ]
     },
     "execution_count": 6,
     "metadata": {},
     "output_type": "execute_result"
    }
   ],
   "source": [
    "titanic_df[titanic_df[\"Embarked\"].isnull()]"
   ]
  },
  {
   "cell_type": "markdown",
   "metadata": {},
   "source": [
    "For both of these records, \"Embarked\" is the only variable that has any missing values. The rest of the data is still intact. As a result, these two records will not be dropped, because the rest of the data is still useful."
   ]
  },
  {
   "cell_type": "markdown",
   "metadata": {},
   "source": [
    "### Transforming Columns/Rows\n",
    "\n",
    "Next, a few of the columns need to be transformed so that they can be used later in the project."
   ]
  },
  {
   "cell_type": "markdown",
   "metadata": {},
   "source": [
    "#### Gender\n",
    "For the \"Sex\" column, each value is converted from a string to an integer. A key dictionary is also created that can be called if the user forgets what each integer represents."
   ]
  },
  {
   "cell_type": "code",
   "execution_count": 7,
   "metadata": {},
   "outputs": [
    {
     "data": {
      "text/plain": [
       "0    0\n",
       "1    1\n",
       "2    1\n",
       "3    1\n",
       "4    0\n",
       "Name: Sex, dtype: int64"
      ]
     },
     "execution_count": 7,
     "metadata": {},
     "output_type": "execute_result"
    }
   ],
   "source": [
    "# The replace() function is vary handy for quickly transforming values\n",
    "titanic_df[\"Sex\"] = titanic_df[\"Sex\"].replace([\"male\", \"female\"], [0,1])\n",
    "titanic_df[\"Sex\"].head(5)"
   ]
  },
  {
   "cell_type": "code",
   "execution_count": 8,
   "metadata": {},
   "outputs": [
    {
     "name": "stdout",
     "output_type": "stream",
     "text": [
      "Male      0\n",
      "Female    1\n",
      "dtype: int64\n"
     ]
    }
   ],
   "source": [
    "# With this \"key\" in a Series, it can easily be called later when analysis is done on the Gender variable\n",
    "gender_key = pd.Series([0, 1], index=[\"Male\", \"Female\"])\n",
    "print(gender_key)"
   ]
  },
  {
   "cell_type": "markdown",
   "metadata": {},
   "source": [
    "#### Embarked"
   ]
  },
  {
   "cell_type": "markdown",
   "metadata": {},
   "source": [
    "In a similiar fashion, the \"Embarked\" data is also transformed into integer data and a key is generated."
   ]
  },
  {
   "cell_type": "code",
   "execution_count": 9,
   "metadata": {},
   "outputs": [
    {
     "data": {
      "text/plain": [
       "0    0.0\n",
       "1    1.0\n",
       "2    0.0\n",
       "3    0.0\n",
       "4    0.0\n",
       "Name: Embarked, dtype: float64"
      ]
     },
     "execution_count": 9,
     "metadata": {},
     "output_type": "execute_result"
    }
   ],
   "source": [
    "titanic_df[\"Embarked\"] = titanic_df[\"Embarked\"].replace([\"S\", \"C\", \"Q\"], [0, 1, 2]) \n",
    "titanic_df[\"Embarked\"].head(5)"
   ]
  },
  {
   "cell_type": "code",
   "execution_count": 10,
   "metadata": {},
   "outputs": [
    {
     "name": "stdout",
     "output_type": "stream",
     "text": [
      "Southampton    0\n",
      "Cherbourg      1\n",
      "Queenstown     2\n",
      "dtype: int64\n"
     ]
    }
   ],
   "source": [
    "embark_key = pd.Series([0, 1, 2], index=[\"Southampton\", \"Cherbourg\", \"Queenstown\"])\n",
    "print(embark_key)"
   ]
  },
  {
   "cell_type": "markdown",
   "metadata": {},
   "source": [
    "### Result\n",
    "\n",
    "With the data fully edited and transformed, the new data can be previewed:"
   ]
  },
  {
   "cell_type": "code",
   "execution_count": 11,
   "metadata": {},
   "outputs": [
    {
     "data": {
      "text/html": [
       "<div>\n",
       "<style>\n",
       "    .dataframe thead tr:only-child th {\n",
       "        text-align: right;\n",
       "    }\n",
       "\n",
       "    .dataframe thead th {\n",
       "        text-align: left;\n",
       "    }\n",
       "\n",
       "    .dataframe tbody tr th {\n",
       "        vertical-align: top;\n",
       "    }\n",
       "</style>\n",
       "<table border=\"1\" class=\"dataframe\">\n",
       "  <thead>\n",
       "    <tr style=\"text-align: right;\">\n",
       "      <th></th>\n",
       "      <th>PassengerId</th>\n",
       "      <th>Survived</th>\n",
       "      <th>Pclass</th>\n",
       "      <th>Sex</th>\n",
       "      <th>Age</th>\n",
       "      <th>Fare</th>\n",
       "      <th>Embarked</th>\n",
       "    </tr>\n",
       "  </thead>\n",
       "  <tbody>\n",
       "    <tr>\n",
       "      <th>0</th>\n",
       "      <td>1</td>\n",
       "      <td>0</td>\n",
       "      <td>3</td>\n",
       "      <td>0</td>\n",
       "      <td>22.0</td>\n",
       "      <td>7.2500</td>\n",
       "      <td>0.0</td>\n",
       "    </tr>\n",
       "    <tr>\n",
       "      <th>1</th>\n",
       "      <td>2</td>\n",
       "      <td>1</td>\n",
       "      <td>1</td>\n",
       "      <td>1</td>\n",
       "      <td>38.0</td>\n",
       "      <td>71.2833</td>\n",
       "      <td>1.0</td>\n",
       "    </tr>\n",
       "    <tr>\n",
       "      <th>2</th>\n",
       "      <td>3</td>\n",
       "      <td>1</td>\n",
       "      <td>3</td>\n",
       "      <td>1</td>\n",
       "      <td>26.0</td>\n",
       "      <td>7.9250</td>\n",
       "      <td>0.0</td>\n",
       "    </tr>\n",
       "    <tr>\n",
       "      <th>3</th>\n",
       "      <td>4</td>\n",
       "      <td>1</td>\n",
       "      <td>1</td>\n",
       "      <td>1</td>\n",
       "      <td>35.0</td>\n",
       "      <td>53.1000</td>\n",
       "      <td>0.0</td>\n",
       "    </tr>\n",
       "    <tr>\n",
       "      <th>4</th>\n",
       "      <td>5</td>\n",
       "      <td>0</td>\n",
       "      <td>3</td>\n",
       "      <td>0</td>\n",
       "      <td>35.0</td>\n",
       "      <td>8.0500</td>\n",
       "      <td>0.0</td>\n",
       "    </tr>\n",
       "    <tr>\n",
       "      <th>5</th>\n",
       "      <td>6</td>\n",
       "      <td>0</td>\n",
       "      <td>3</td>\n",
       "      <td>0</td>\n",
       "      <td>NaN</td>\n",
       "      <td>8.4583</td>\n",
       "      <td>2.0</td>\n",
       "    </tr>\n",
       "    <tr>\n",
       "      <th>6</th>\n",
       "      <td>7</td>\n",
       "      <td>0</td>\n",
       "      <td>1</td>\n",
       "      <td>0</td>\n",
       "      <td>54.0</td>\n",
       "      <td>51.8625</td>\n",
       "      <td>0.0</td>\n",
       "    </tr>\n",
       "    <tr>\n",
       "      <th>7</th>\n",
       "      <td>8</td>\n",
       "      <td>0</td>\n",
       "      <td>3</td>\n",
       "      <td>0</td>\n",
       "      <td>2.0</td>\n",
       "      <td>21.0750</td>\n",
       "      <td>0.0</td>\n",
       "    </tr>\n",
       "    <tr>\n",
       "      <th>8</th>\n",
       "      <td>9</td>\n",
       "      <td>1</td>\n",
       "      <td>3</td>\n",
       "      <td>1</td>\n",
       "      <td>27.0</td>\n",
       "      <td>11.1333</td>\n",
       "      <td>0.0</td>\n",
       "    </tr>\n",
       "    <tr>\n",
       "      <th>9</th>\n",
       "      <td>10</td>\n",
       "      <td>1</td>\n",
       "      <td>2</td>\n",
       "      <td>1</td>\n",
       "      <td>14.0</td>\n",
       "      <td>30.0708</td>\n",
       "      <td>1.0</td>\n",
       "    </tr>\n",
       "  </tbody>\n",
       "</table>\n",
       "</div>"
      ],
      "text/plain": [
       "   PassengerId  Survived  Pclass  Sex   Age     Fare  Embarked\n",
       "0            1         0       3    0  22.0   7.2500       0.0\n",
       "1            2         1       1    1  38.0  71.2833       1.0\n",
       "2            3         1       3    1  26.0   7.9250       0.0\n",
       "3            4         1       1    1  35.0  53.1000       0.0\n",
       "4            5         0       3    0  35.0   8.0500       0.0\n",
       "5            6         0       3    0   NaN   8.4583       2.0\n",
       "6            7         0       1    0  54.0  51.8625       0.0\n",
       "7            8         0       3    0   2.0  21.0750       0.0\n",
       "8            9         1       3    1  27.0  11.1333       0.0\n",
       "9           10         1       2    1  14.0  30.0708       1.0"
      ]
     },
     "execution_count": 11,
     "metadata": {},
     "output_type": "execute_result"
    }
   ],
   "source": [
    "titanic_df.head(10)"
   ]
  },
  {
   "cell_type": "markdown",
   "metadata": {},
   "source": [
    "The data has now been properly edited for exploration."
   ]
  },
  {
   "cell_type": "markdown",
   "metadata": {},
   "source": [
    "## Exploration\n",
    "\n",
    "[[back to top]](#Introduction)\n",
    "\n",
    "Now that the data has been prepped for analysis, experimentation and exploration of the data can begin.\n",
    "\n",
    "The Exploration phase will start by exploring each of the variables of interest (Gender, Age, Social Class, Fare, and Embarkation) to get a better picture of what the passengers looked like. The same procedures will also be done for the survivors of the Titanic. The passenger's and survivor's variables will then be compared against each other in order to answer the questions posed at the start of the project."
   ]
  },
  {
   "cell_type": "markdown",
   "metadata": {},
   "source": [
    "### The Passengers\n",
    "\n",
    "[[back to top]](#Introduction)"
   ]
  },
  {
   "cell_type": "markdown",
   "metadata": {},
   "source": [
    "#### Total Passengers\n",
    "\n",
    "The best place to start is to calculate how many total passengers are in the dataset. "
   ]
  },
  {
   "cell_type": "code",
   "execution_count": 12,
   "metadata": {},
   "outputs": [
    {
     "name": "stdout",
     "output_type": "stream",
     "text": [
      "891\n"
     ]
    }
   ],
   "source": [
    "passenger_count = titanic_df[\"PassengerId\"].count()\n",
    "print(passenger_count)"
   ]
  },
  {
   "cell_type": "markdown",
   "metadata": {},
   "source": [
    "After a short line of code, we find that the total number was 891. This is smaller than the [actual passenger count onboard the Titanic, which was 1,317](https://en.wikipedia.org/wiki/RMS_Titanic#Passengers). This suggests that the current dataset is a sample of Titanic passenger population."
   ]
  },
  {
   "cell_type": "markdown",
   "metadata": {},
   "source": [
    "#### Gender \n",
    "\n",
    "Next we move on to gender. The expectation would be approximately a 1:1 ratio, since this is most common distribution for gender in most populations. \n",
    "\n",
    "The results will be displayed as percentages of all passengers in the dataset."
   ]
  },
  {
   "cell_type": "code",
   "execution_count": 13,
   "metadata": {},
   "outputs": [
    {
     "name": "stdout",
     "output_type": "stream",
     "text": [
      "0    64.758698\n",
      "1    35.241302\n",
      "Name: Sex, dtype: float64\n"
     ]
    }
   ],
   "source": [
    "# The value_counts() function will be used again in the Social Class and Embarkation sections to find the percentages\n",
    "gender_stat = 100 * titanic_df['Sex'].value_counts() / titanic_df.shape[0]\n",
    "print(gender_stat)"
   ]
  },
  {
   "cell_type": "markdown",
   "metadata": {},
   "source": [
    "Interestingly, there are almost two times as many men than women passengers in this sample."
   ]
  },
  {
   "cell_type": "markdown",
   "metadata": {},
   "source": [
    "#### Age\n",
    "\n",
    "For age, the minimum and maximum values, the median, and the standard deviation are calculated."
   ]
  },
  {
   "cell_type": "code",
   "execution_count": 14,
   "metadata": {},
   "outputs": [
    {
     "name": "stdout",
     "output_type": "stream",
     "text": [
      "count    714.000000\n",
      "mean      29.699118\n",
      "std       14.526497\n",
      "min        0.420000\n",
      "25%       20.125000\n",
      "50%       28.000000\n",
      "75%       38.000000\n",
      "max       80.000000\n",
      "Name: Age, dtype: float64\n"
     ]
    }
   ],
   "source": [
    "age_stat = titanic_df[\"Age\"].describe()\n",
    "print(age_stat)"
   ]
  },
  {
   "cell_type": "markdown",
   "metadata": {},
   "source": [
    "The age of the passengers ranges from a 5 month old to child to an 80 year old adult. The median is 28 with a standard deviation of ~14.53 years.\n",
    "\n",
    "The values can also be plotted to a histogram to get a better sense of data's shape."
   ]
  },
  {
   "cell_type": "code",
   "execution_count": 15,
   "metadata": {},
   "outputs": [
    {
     "data": {
      "text/plain": [
       "<matplotlib.text.Text at 0xc0df668>"
      ]
     },
     "execution_count": 15,
     "metadata": {},
     "output_type": "execute_result"
    },
    {
     "data": {
      "image/png": "[encoded data removed]",
      "text/plain": [
       "<matplotlib.figure.Figure at 0xc029fd0>"
      ]
     },
     "metadata": {},
     "output_type": "display_data"
    }
   ],
   "source": [
    "titanic_df[\"Age\"].plot(kind=\"hist\",\n",
    "                       bins=16, \n",
    "                       range=(0, titanic_df[\"Age\"].max()),\n",
    "                       title=\"Age of Passengers\")\n",
    "plt.xlabel(\"Age\")"
   ]
  },
  {
   "cell_type": "markdown",
   "metadata": {},
   "source": [
    "The histogram shows that there is a small peak at the 0-5 year old children in the sample. The frequency then drops for the 10-15 year olds and spikes again as the values get closer to the median. From there, the distribution has a downward trend as the individuals get older."
   ]
  },
  {
   "cell_type": "markdown",
   "metadata": {},
   "source": [
    "#### Social Class\n",
    "\n",
    "Each social class from the dataset is sorted and compared as parts of a whole. A possible prediction might be that the total amount of passengers for each class would follow a pattern, where the lower classes have the highest amount of passengers and the upper classes have the lowest amount of passengers.\n",
    "\n",
    "The results will be displayed as percentages of all passengers in the dataset.\n",
    "\n",
    "A key is also generated from [source page of the dataset](https://www.kaggle.com/c/titanic/data) so each value has an assigned class."
   ]
  },
  {
   "cell_type": "code",
   "execution_count": 16,
   "metadata": {},
   "outputs": [
    {
     "name": "stdout",
     "output_type": "stream",
     "text": [
      "Upper     1\n",
      "Middle    2\n",
      "Lower     3\n",
      "dtype: int64\n"
     ]
    }
   ],
   "source": [
    "social_class_key = pd.Series([1,2,3], index= [\"Upper\", \"Middle\", \"Lower\"])\n",
    "print(social_class_key)"
   ]
  },
  {
   "cell_type": "code",
   "execution_count": 17,
   "metadata": {},
   "outputs": [
    {
     "name": "stdout",
     "output_type": "stream",
     "text": [
      "1    24.242424\n",
      "2    20.650954\n",
      "3    55.106622\n",
      "Name: Pclass, dtype: float64\n"
     ]
    }
   ],
   "source": [
    "social_class_stat = 100 * titanic_df[\"Pclass\"].value_counts(sort=False) / titanic_df.shape[0]\n",
    "print(social_class_stat)"
   ]
  },
  {
   "cell_type": "markdown",
   "metadata": {},
   "source": [
    "The lower class does end up accounting for a  little over half of the passengers, with the rest being in the middle and upper class. There are actually more in the upper class than in the middle class, contrary to the original prediction. This might be attributable to the fact that [there were more upper class rooms than middle class rooms available on the Titanic](https://en.wikipedia.org/wiki/RMS_Titanic#Passengers)."
   ]
  },
  {
   "cell_type": "markdown",
   "metadata": {},
   "source": [
    "#### Fare\n",
    "\n",
    "Similiar to age, we are going to look at the minimum, maximum, median, and standard deviation of the fares for the passengers.\n",
    "\n",
    "It is important to consider that the currency is not explicitly mentioned in the data's origins, but it is probably [the old British currency system of pounds, shillings, and pence.](https://en.wikipedia.org/wiki/%C2%A3sd) "
   ]
  },
  {
   "cell_type": "code",
   "execution_count": 18,
   "metadata": {},
   "outputs": [
    {
     "name": "stdout",
     "output_type": "stream",
     "text": [
      "count    891.000000\n",
      "mean      32.204208\n",
      "std       49.693429\n",
      "min        0.000000\n",
      "25%        7.910400\n",
      "50%       14.454200\n",
      "75%       31.000000\n",
      "max      512.329200\n",
      "Name: Fare, dtype: float64\n"
     ]
    }
   ],
   "source": [
    "fare_stat = titanic_df[\"Fare\"].describe()\n",
    "print(fare_stat)"
   ]
  },
  {
   "cell_type": "markdown",
   "metadata": {},
   "source": [
    "This might be the first instance where there is an outlier in the data. The maximum value for fare is way above both the median and the 75th percentile. \n",
    "\n",
    "By visualizing this data in a histogram, this theory can be explored."
   ]
  },
  {
   "cell_type": "code",
   "execution_count": 19,
   "metadata": {},
   "outputs": [
    {
     "data": {
      "text/plain": [
       "<matplotlib.text.Text at 0xc45c630>"
      ]
     },
     "execution_count": 19,
     "metadata": {},
     "output_type": "execute_result"
    },
    {
     "data": {
      "image/png": "[encoded data removed]",
      "text/plain": [
       "<matplotlib.figure.Figure at 0xc217fd0>"
      ]
     },
     "metadata": {},
     "output_type": "display_data"
    }
   ],
   "source": [
    "titanic_df[\"Fare\"].plot(kind=\"hist\",\n",
    "                        bins=50,\n",
    "                        range=(0,titanic_df[\"Fare\"].max()),\n",
    "                        title=\"Fare Paid by Passengers\")\n",
    "plt.xlabel(\"Fare (Units)\")"
   ]
  },
  {
   "cell_type": "markdown",
   "metadata": {},
   "source": [
    "As suspected, the maximum value is indeed an outlier. The majority of the values are concentrated between 0 and 100, with the frequency rapidly decreasing as the fare increases."
   ]
  },
  {
   "cell_type": "markdown",
   "metadata": {},
   "source": [
    "#### Embarkation\n",
    "\n",
    "Similiar to the social classes, the embarkation ports are sorted from the dataset and compared as parts of a whole."
   ]
  },
  {
   "cell_type": "code",
   "execution_count": 20,
   "metadata": {},
   "outputs": [
    {
     "data": {
      "text/plain": [
       "Southampton    0\n",
       "Cherbourg      1\n",
       "Queenstown     2\n",
       "dtype: int64"
      ]
     },
     "execution_count": 20,
     "metadata": {},
     "output_type": "execute_result"
    }
   ],
   "source": [
    "## Called the key here in order to read the statistics output below\n",
    "embark_key"
   ]
  },
  {
   "cell_type": "code",
   "execution_count": 21,
   "metadata": {},
   "outputs": [
    {
     "name": "stdout",
     "output_type": "stream",
     "text": [
      "0.0    72.278339\n",
      "1.0    18.855219\n",
      "2.0     8.641975\n",
      "Name: Embarked, dtype: float64\n"
     ]
    }
   ],
   "source": [
    "embark_stat = 100 * titanic_df[\"Embarked\"].value_counts(sort=False) / titanic_df.shape[0]\n",
    "print(embark_stat)"
   ]
  },
  {
   "cell_type": "markdown",
   "metadata": {},
   "source": [
    "Southampton is where the majority of the passengers originated, followed by Cherbourg and then Queenstown. This make sense considering that [Southampton was Titanic's original launching port](https://en.wikipedia.org/wiki/RMS_Titanic#Collecting_passengers)."
   ]
  },
  {
   "cell_type": "markdown",
   "metadata": {},
   "source": [
    "### The Survivors\n",
    "\n",
    "[[back to top]](#Introduction)\n",
    "\n",
    "With the general investigation of the passenger data now complete, the focus will move on toward looking at the survivors, a subset of the original dataset. The same variables and procedures that was used for the \"[The Passengers](#The-Passengers)\" section will also be used here.\n",
    "\n",
    "To start, a new dataframe consisting of only the survivors will be created."
   ]
  },
  {
   "cell_type": "code",
   "execution_count": 22,
   "metadata": {
    "collapsed": true
   },
   "outputs": [],
   "source": [
    "# Create survivor only dataframe\n",
    "survivor_df = titanic_df[titanic_df['Survived'] > 0]"
   ]
  },
  {
   "cell_type": "markdown",
   "metadata": {},
   "source": [
    "#### Total percentage of people that survived\n",
    "\n",
    "Next, the total survivor count will be calculated."
   ]
  },
  {
   "cell_type": "code",
   "execution_count": 23,
   "metadata": {},
   "outputs": [
    {
     "name": "stdout",
     "output_type": "stream",
     "text": [
      "342 out of 891 survived, or 38.4%.\n"
     ]
    }
   ],
   "source": [
    "survivor_mean = titanic_df['Survived'].mean()\n",
    "survivor_count = survivor_df.shape[0]\n",
    "\n",
    "print(('{} out of {} survived, or {}%.').format(survivor_count, passenger_count, round(survivor_mean*100, 1)))"
   ]
  },
  {
   "cell_type": "markdown",
   "metadata": {},
   "source": [
    "Of the 891 passengers onboard the Titanic in this sample, only 342 survived, or about 38.4%."
   ]
  },
  {
   "cell_type": "markdown",
   "metadata": {},
   "source": [
    "#### Gender"
   ]
  },
  {
   "cell_type": "code",
   "execution_count": 24,
   "metadata": {},
   "outputs": [
    {
     "data": {
      "text/plain": [
       "Male      0\n",
       "Female    1\n",
       "dtype: int64"
      ]
     },
     "execution_count": 24,
     "metadata": {},
     "output_type": "execute_result"
    }
   ],
   "source": [
    "gender_key"
   ]
  },
  {
   "cell_type": "code",
   "execution_count": 25,
   "metadata": {},
   "outputs": [
    {
     "name": "stdout",
     "output_type": "stream",
     "text": [
      "0    31.871345\n",
      "1    68.128655\n",
      "Name: Sex, dtype: float64\n"
     ]
    }
   ],
   "source": [
    "survivor_gender_stat = 100 * survivor_df['Sex'].value_counts(sort=False) / survivor_df.shape[0]\n",
    "print(survivor_gender_stat)"
   ]
  },
  {
   "cell_type": "markdown",
   "metadata": {},
   "source": [
    "For the survivor subset, females actually make up the majority, completely opposite to the gender distribution of the passengers."
   ]
  },
  {
   "cell_type": "markdown",
   "metadata": {},
   "source": [
    "#### Age"
   ]
  },
  {
   "cell_type": "code",
   "execution_count": 26,
   "metadata": {},
   "outputs": [
    {
     "name": "stdout",
     "output_type": "stream",
     "text": [
      "count    290.000000\n",
      "mean      28.343690\n",
      "std       14.950952\n",
      "min        0.420000\n",
      "25%       19.000000\n",
      "50%       28.000000\n",
      "75%       36.000000\n",
      "max       80.000000\n",
      "Name: Age, dtype: float64\n"
     ]
    }
   ],
   "source": [
    "survivor_age_stat = survivor_df[\"Age\"].describe()\n",
    "print(survivor_age_stat)"
   ]
  },
  {
   "cell_type": "markdown",
   "metadata": {},
   "source": [
    "At first glance, the age stats for the survivor subgroup appear to be very similiar to that of the passengers. \n",
    "\n",
    "Visualizing the survivor data may show if their is any variation between the two datasets."
   ]
  },
  {
   "cell_type": "code",
   "execution_count": 27,
   "metadata": {},
   "outputs": [
    {
     "data": {
      "text/plain": [
       "<matplotlib.text.Text at 0xc334860>"
      ]
     },
     "execution_count": 27,
     "metadata": {},
     "output_type": "execute_result"
    },
    {
     "data": {
      "image/png": "[encoded data removed]",
      "text/plain": [
       "<matplotlib.figure.Figure at 0xc739860>"
      ]
     },
     "metadata": {},
     "output_type": "display_data"
    }
   ],
   "source": [
    "survivor_df[\"Age\"].plot(kind='hist',\n",
    "                        bins=16,\n",
    "                        range=(0,survivor_df[\"Age\"].max()),\n",
    "                        title=\"Survivor Age\")\n",
    "plt.xlabel(\"Age\")"
   ]
  },
  {
   "cell_type": "markdown",
   "metadata": {},
   "source": [
    "For the most part,  the shape of the histogram remains consistent. However, the first peak for the 0-5 year olds is more pronounced in the survivor set than in the passenger set."
   ]
  },
  {
   "cell_type": "markdown",
   "metadata": {},
   "source": [
    "#### Social Class"
   ]
  },
  {
   "cell_type": "code",
   "execution_count": 28,
   "metadata": {},
   "outputs": [
    {
     "data": {
      "text/plain": [
       "Upper     1\n",
       "Middle    2\n",
       "Lower     3\n",
       "dtype: int64"
      ]
     },
     "execution_count": 28,
     "metadata": {},
     "output_type": "execute_result"
    }
   ],
   "source": [
    "social_class_key"
   ]
  },
  {
   "cell_type": "code",
   "execution_count": 29,
   "metadata": {},
   "outputs": [
    {
     "name": "stdout",
     "output_type": "stream",
     "text": [
      "1    39.766082\n",
      "2    25.438596\n",
      "3    34.795322\n",
      "Name: Pclass, dtype: float64\n"
     ]
    }
   ],
   "source": [
    "survivor_social_class_stat = 100 * survivor_df['Pclass'].value_counts(sort=False) / survivor_df.shape[0]\n",
    "print(survivor_social_class_stat)"
   ]
  },
  {
   "cell_type": "markdown",
   "metadata": {},
   "source": [
    "The survivor set contains a much higher percentage of individuals belonging to the upper class. This is in stark contrast to the passenger data, where the lower class was the majority. Now, the lower class account for slightly less survivors than the upper class, and and has drawn closer to the middle class percentage."
   ]
  },
  {
   "cell_type": "markdown",
   "metadata": {},
   "source": [
    "#### Fare"
   ]
  },
  {
   "cell_type": "code",
   "execution_count": 30,
   "metadata": {},
   "outputs": [
    {
     "name": "stdout",
     "output_type": "stream",
     "text": [
      "count    342.000000\n",
      "mean      48.395408\n",
      "std       66.596998\n",
      "min        0.000000\n",
      "25%       12.475000\n",
      "50%       26.000000\n",
      "75%       57.000000\n",
      "max      512.329200\n",
      "Name: Fare, dtype: float64\n"
     ]
    }
   ],
   "source": [
    "survivor_fare_stat = survivor_df[\"Fare\"].describe()\n",
    "print(survivor_fare_stat)"
   ]
  },
  {
   "cell_type": "markdown",
   "metadata": {},
   "source": [
    "The minimum and maximum fare rate for the survivor set is identical to the minimum and maximum for the passenger set. The median  has increased though, as has the standard deviation."
   ]
  },
  {
   "cell_type": "code",
   "execution_count": 31,
   "metadata": {},
   "outputs": [
    {
     "data": {
      "text/plain": [
       "<matplotlib.text.Text at 0xc471550>"
      ]
     },
     "execution_count": 31,
     "metadata": {},
     "output_type": "execute_result"
    },
    {
     "data": {
      "image/png": "[encoded data removed]",
      "text/plain": [
       "<matplotlib.figure.Figure at 0xc731d30>"
      ]
     },
     "metadata": {},
     "output_type": "display_data"
    }
   ],
   "source": [
    "survivor_fare_hist = survivor_df[\"Fare\"].plot(kind='hist',\n",
    "                                              bins=50,\n",
    "                                              range=(0,survivor_df[\"Fare\"].max()),\n",
    "                                              title=\"Fare Paid by Survivor\")\n",
    "survivor_fare_hist.set_xlabel(\"Fare (Units)\")"
   ]
  },
  {
   "cell_type": "markdown",
   "metadata": {},
   "source": [
    "Once plotted, the histogram shows that the shape is very simliar to that of the passenger set."
   ]
  },
  {
   "cell_type": "markdown",
   "metadata": {},
   "source": [
    "#### Embarkation"
   ]
  },
  {
   "cell_type": "code",
   "execution_count": 32,
   "metadata": {},
   "outputs": [
    {
     "data": {
      "text/plain": [
       "Southampton    0\n",
       "Cherbourg      1\n",
       "Queenstown     2\n",
       "dtype: int64"
      ]
     },
     "execution_count": 32,
     "metadata": {},
     "output_type": "execute_result"
    }
   ],
   "source": [
    "embark_key"
   ]
  },
  {
   "cell_type": "code",
   "execution_count": 33,
   "metadata": {},
   "outputs": [
    {
     "name": "stdout",
     "output_type": "stream",
     "text": [
      "0.0    63.450292\n",
      "1.0    27.192982\n",
      "2.0     8.771930\n",
      "Name: Embarked, dtype: float64\n"
     ]
    }
   ],
   "source": [
    "survivor_embark_stat = 100 * survivor_df['Embarked'].value_counts() / survivor_df.shape[0]\n",
    "print(survivor_embark_stat)"
   ]
  },
  {
   "cell_type": "markdown",
   "metadata": {},
   "source": [
    "In the survivor set, Cherbourg still accounted for the greatest proportion of the individuals, same as the passenger data. Cherbourg's percentage increased slightly in the survivor data, and Queenstown remained relatively the same."
   ]
  },
  {
   "cell_type": "markdown",
   "metadata": {},
   "source": [
    "### Passengers vs Survivors\n",
    "\n",
    "[[back to top]](#Introduction)\n",
    "\n",
    "With descriptive statistics now calculated for both the passengers and the survivor subset, comparison analysis and statistical tests can be run between these two groups. This section will work through each variable one at a time, with the analysis focused on answering the questions posed at the start of the project. "
   ]
  },
  {
   "cell_type": "markdown",
   "metadata": {},
   "source": [
    "#### Gender Comparison"
   ]
  },
  {
   "cell_type": "code",
   "execution_count": 34,
   "metadata": {},
   "outputs": [
    {
     "data": {
      "text/plain": [
       "Male      0\n",
       "Female    1\n",
       "dtype: int64"
      ]
     },
     "execution_count": 34,
     "metadata": {},
     "output_type": "execute_result"
    }
   ],
   "source": [
    "gender_key"
   ]
  },
  {
   "cell_type": "code",
   "execution_count": 35,
   "metadata": {},
   "outputs": [
    {
     "name": "stdout",
     "output_type": "stream",
     "text": [
      "Passengers:\n",
      "0    64.758698\n",
      "1    35.241302\n",
      "Name: Sex, dtype: float64\n",
      "\n",
      "Survivors:\n",
      "0    31.871345\n",
      "1    68.128655\n",
      "Name: Sex, dtype: float64\n",
      "\n",
      "Survivor Difference:\n",
      "0   -32.887353\n",
      "1    32.887353\n",
      "Name: Sex, dtype: float64\n"
     ]
    }
   ],
   "source": [
    "print(\"Passengers:\")\n",
    "print(gender_stat)\n",
    "\n",
    "print(\"\\nSurvivors:\")\n",
    "print(survivor_gender_stat)\n",
    "\n",
    "gender_stat_diff = survivor_gender_stat - gender_stat\n",
    "\n",
    "print(\"\\nSurvivor Difference:\")\n",
    "print(gender_stat_diff)"
   ]
  },
  {
   "cell_type": "markdown",
   "metadata": {},
   "source": [
    "As mentioned in the Survivors section, the male and female percentages are complete opposites between the passenger set and the survivor set.\n",
    "\n",
    "This be be more clearly seen in a double bar graph:"
   ]
  },
  {
   "cell_type": "code",
   "execution_count": 36,
   "metadata": {},
   "outputs": [
    {
     "data": {
      "text/plain": [
       "<matplotlib.text.Text at 0x9e76d30>"
      ]
     },
     "execution_count": 36,
     "metadata": {},
     "output_type": "execute_result"
    },
    {
     "data": {
      "image/png": "[encoded data removed]",
      "text/plain": [
       "<matplotlib.figure.Figure at 0xcfddd30>"
      ]
     },
     "metadata": {},
     "output_type": "display_data"
    }
   ],
   "source": [
    "gender_df = pd.DataFrame({\"Passenger\":gender_stat,\n",
    "                          \"Survivor\":survivor_gender_stat},\n",
    "                        columns=[\"Passenger\", \"Survivor\"])\n",
    "\n",
    "gender_df.plot(kind=\"bar\", title=\"Gender Comparison Between Passengers and Survivors\") \\\n",
    "    .set_xticklabels([\"Male\", \"Female\"], rotation='horizontal')\n",
    "plt.ylabel(\"Percent %\")\n",
    "plt.xlabel(\"Gender\")"
   ]
  },
  {
   "cell_type": "markdown",
   "metadata": {},
   "source": [
    "***\n",
    "\n",
    "Or in a positive-negative bar plot:\n",
    "\n"
   ]
  },
  {
   "cell_type": "code",
   "execution_count": 37,
   "metadata": {},
   "outputs": [
    {
     "data": {
      "text/plain": [
       "<matplotlib.text.Text at 0xcfbe470>"
      ]
     },
     "execution_count": 37,
     "metadata": {},
     "output_type": "execute_result"
    },
    {
     "data": {
      "image/png": "[encoded data removed]",
      "text/plain": [
       "<matplotlib.figure.Figure at 0xd23c0b8>"
      ]
     },
     "metadata": {},
     "output_type": "display_data"
    }
   ],
   "source": [
    "gender_stat_diff.plot(kind=\"bar\", \n",
    "                      color=\"crimson\",\n",
    "                      title=\"Change in Gender Percentages for Survivors\") \\\n",
    "    .set_xticklabels([\"Male\", \"Female\"], rotation='horizontal'); plt.axhline(color=\"black\", lw=1)\n",
    "plt.ylabel(\"Percent %\")\n",
    "plt.xlabel(\"Gender\")"
   ]
  },
  {
   "cell_type": "markdown",
   "metadata": {},
   "source": [
    "Both of these graphs clearly show that the male and female percentages were flipped for the survivors.\n",
    "\n",
    "***\n",
    "\n",
    "However, just because the graphs seem to show that surviving is dependent upon whether you were a male of a female, it does not *statistically* prove it to be fact. In order to provide evidence that the two variables are not independent, a chi-squared test must be done.\n",
    "\n",
    "[This site](http://hamelg.blogspot.com/2015/11/python-for-data-analysis-part-25-chi.html) was extremely helpful in my understanding and implementation of the chi-squared test of independence on these variables.\n",
    "\n",
    "The process starts by creating a frequency table of those who died and survived for both males and females."
   ]
  },
  {
   "cell_type": "code",
   "execution_count": 38,
   "metadata": {
    "collapsed": true
   },
   "outputs": [],
   "source": [
    "# Collecting variables to be used in the chi-squared test\n",
    "male_count = titanic_df[\"Sex\"][titanic_df[\"Sex\"] == 0].count()\n",
    "female_count = titanic_df[\"Sex\"][titanic_df[\"Sex\"] == 1].count()\n",
    "survivor_male_count = survivor_df[\"Sex\"][survivor_df[\"Sex\"] == 0].count()\n",
    "survivor_female_count = survivor_df[\"Sex\"][survivor_df[\"Sex\"] == 1].count()\n",
    "death_male_count = male_count-survivor_male_count\n",
    "death_female_count = female_count-survivor_female_count\n",
    "\n",
    "# I built the table manually in a numpy array so that I could seemlessly transfer it over to a pandas DataFrame\n",
    "gender_np = np.array([[survivor_male_count, death_male_count, male_count],\n",
    "                     [survivor_female_count, death_female_count, female_count],\n",
    "                     [survivor_count, (death_male_count + death_female_count), passenger_count]])"
   ]
  },
  {
   "cell_type": "code",
   "execution_count": 39,
   "metadata": {},
   "outputs": [
    {
     "data": {
      "text/html": [
       "<div>\n",
       "<style>\n",
       "    .dataframe thead tr:only-child th {\n",
       "        text-align: right;\n",
       "    }\n",
       "\n",
       "    .dataframe thead th {\n",
       "        text-align: left;\n",
       "    }\n",
       "\n",
       "    .dataframe tbody tr th {\n",
       "        vertical-align: top;\n",
       "    }\n",
       "</style>\n",
       "<table border=\"1\" class=\"dataframe\">\n",
       "  <thead>\n",
       "    <tr style=\"text-align: right;\">\n",
       "      <th></th>\n",
       "      <th>Survived</th>\n",
       "      <th>Died</th>\n",
       "      <th>Row_totals</th>\n",
       "    </tr>\n",
       "  </thead>\n",
       "  <tbody>\n",
       "    <tr>\n",
       "      <th>Male</th>\n",
       "      <td>109</td>\n",
       "      <td>468</td>\n",
       "      <td>577</td>\n",
       "    </tr>\n",
       "    <tr>\n",
       "      <th>Female</th>\n",
       "      <td>233</td>\n",
       "      <td>81</td>\n",
       "      <td>314</td>\n",
       "    </tr>\n",
       "    <tr>\n",
       "      <th>Col_totals</th>\n",
       "      <td>342</td>\n",
       "      <td>549</td>\n",
       "      <td>891</td>\n",
       "    </tr>\n",
       "  </tbody>\n",
       "</table>\n",
       "</div>"
      ],
      "text/plain": [
       "            Survived  Died  Row_totals\n",
       "Male             109   468         577\n",
       "Female           233    81         314\n",
       "Col_totals       342   549         891"
      ]
     },
     "execution_count": 39,
     "metadata": {},
     "output_type": "execute_result"
    }
   ],
   "source": [
    "# The array is converted to a DataFrame...\n",
    "gender_tab = pd.DataFrame(gender_np, \n",
    "                         columns=[\"Survived\", \"Died\", \"Row_totals\"],\n",
    "                         index=[\"Male\", \"Female\", \"Col_totals\"])\n",
    "\n",
    "# ... and printed to ensure it is correct.\n",
    "gender_tab.head()"
   ]
  },
  {
   "cell_type": "markdown",
   "metadata": {},
   "source": [
    "Once the data has been collected and put into a dataframe, the [\"chi2_continency()\" method](https://docs.scipy.org/doc/scipy-0.15.1/reference/generated/scipy.stats.chi2_contingency.html) from the scipy.stats package can be used to calculate a p-value for the observed dataframe."
   ]
  },
  {
   "cell_type": "code",
   "execution_count": 40,
   "metadata": {},
   "outputs": [
    {
     "data": {
      "text/plain": [
       "(260.71702016732104,\n",
       " 1.1973570627755645e-58,\n",
       " 1L,\n",
       " array([[ 221.47474747,  355.52525253],\n",
       "        [ 120.52525253,  193.47474747]]))"
      ]
     },
     "execution_count": 40,
     "metadata": {},
     "output_type": "execute_result"
    }
   ],
   "source": [
    "# Using .iloc, only the frequecies are selected, not the totals.\n",
    "gender_observed = gender_tab.iloc[0:2,0:2]\n",
    "\n",
    "stats.chi2_contingency(observed= gender_observed)"
   ]
  },
  {
   "cell_type": "markdown",
   "metadata": {},
   "source": [
    "With a p-value of < 0.01, we reject the null hypothesis that the two varibles of surviving and gender are independent, and that they are in fact correlated.  "
   ]
  },
  {
   "cell_type": "markdown",
   "metadata": {},
   "source": [
    "#### Age Comparison"
   ]
  },
  {
   "cell_type": "code",
   "execution_count": 41,
   "metadata": {},
   "outputs": [
    {
     "name": "stdout",
     "output_type": "stream",
     "text": [
      "Passengers:\n",
      "count    714.000000\n",
      "mean      29.699118\n",
      "std       14.526497\n",
      "min        0.420000\n",
      "25%       20.125000\n",
      "50%       28.000000\n",
      "75%       38.000000\n",
      "max       80.000000\n",
      "Name: Age, dtype: float64\n",
      "\n",
      "Survivors:\n",
      "count    290.000000\n",
      "mean      28.343690\n",
      "std       14.950952\n",
      "min        0.420000\n",
      "25%       19.000000\n",
      "50%       28.000000\n",
      "75%       36.000000\n",
      "max       80.000000\n",
      "Name: Age, dtype: float64\n"
     ]
    }
   ],
   "source": [
    "print(\"Passengers:\")\n",
    "print(age_stat)\n",
    "\n",
    "print(\"\\nSurvivors:\")\n",
    "print(survivor_age_stat)"
   ]
  },
  {
   "cell_type": "markdown",
   "metadata": {},
   "source": [
    "At first glance, there does not appear to be many differences between the survivor and passenger datasets.\n",
    "\n",
    "Visualizing the shape of the two datasets together can be done with a step histogram:"
   ]
  },
  {
   "cell_type": "code",
   "execution_count": 42,
   "metadata": {},
   "outputs": [
    {
     "data": {
      "text/plain": [
       "<matplotlib.text.Text at 0xd23cc50>"
      ]
     },
     "execution_count": 42,
     "metadata": {},
     "output_type": "execute_result"
    },
    {
     "data": {
      "image/png": "[encoded data removed]",
      "text/plain": [
       "<matplotlib.figure.Figure at 0xd4dcef0>"
      ]
     },
     "metadata": {},
     "output_type": "display_data"
    }
   ],
   "source": [
    "age_df = pd.DataFrame({\"Passenger\":titanic_df[\"Age\"],\n",
    "                       \"Survivor\":survivor_df[\"Age\"]},\n",
    "                      columns= [\"Passenger\",\n",
    "                              \"Survivor\"])\n",
    "\n",
    "age_df.plot(kind='hist', \n",
    "            bins=16,\n",
    "            range=(0,80), \n",
    "            histtype=\"step\",\n",
    "            lw=2,\n",
    "            title=\"Age Comparison Between Passengers and Survivors\")\n",
    "plt.xlabel(\"Age\")"
   ]
  },
  {
   "cell_type": "markdown",
   "metadata": {},
   "source": [
    "For the most part, both datasets follow a very similar shape. However, the 20-30 year old peak on the survivor data is much shallower than on the passenger data. The 0-5 year old peak also maintains most of its height in the survivor group. \n",
    "\n",
    "The two datasets can also be compared using boxplots:"
   ]
  },
  {
   "cell_type": "code",
   "execution_count": 43,
   "metadata": {},
   "outputs": [
    {
     "data": {
      "text/plain": [
       "<matplotlib.text.Text at 0xd85bd68>"
      ]
     },
     "execution_count": 43,
     "metadata": {},
     "output_type": "execute_result"
    },
    {
     "data": {
      "image/png": "[encoded data removed]",
      "text/plain": [
       "<matplotlib.figure.Figure at 0xd249400>"
      ]
     },
     "metadata": {},
     "output_type": "display_data"
    }
   ],
   "source": [
    "sns.boxplot(data=age_df, orient=\"h\", whis=2)\n",
    "plt.xlabel(\"Age\")\n",
    "plt.title(\"Age Distribution of Passengers and Survivors\")"
   ]
  },
  {
   "cell_type": "markdown",
   "metadata": {},
   "source": [
    "The box plots tell a similiar story when it comes to the distribution of the two sets. For the most part, they are similiar.\n",
    "\n",
    "So what conclusions can be drawn about someone's age and their chances of survival? Although some minor differences were mentioned for the step histogram, it can be difficult to determine whether these differences are significant, or just due to chance. Perhaps some deeper analysis can be done on these points in a future study."
   ]
  },
  {
   "cell_type": "markdown",
   "metadata": {},
   "source": [
    "#### Social Class Comparison"
   ]
  },
  {
   "cell_type": "code",
   "execution_count": 44,
   "metadata": {},
   "outputs": [
    {
     "data": {
      "text/plain": [
       "Upper     1\n",
       "Middle    2\n",
       "Lower     3\n",
       "dtype: int64"
      ]
     },
     "execution_count": 44,
     "metadata": {},
     "output_type": "execute_result"
    }
   ],
   "source": [
    "social_class_key"
   ]
  },
  {
   "cell_type": "code",
   "execution_count": 45,
   "metadata": {},
   "outputs": [
    {
     "name": "stdout",
     "output_type": "stream",
     "text": [
      "Passengers:\n",
      "1    24.242424\n",
      "2    20.650954\n",
      "3    55.106622\n",
      "Name: Pclass, dtype: float64\n",
      "\n",
      "Survivors:\n",
      "1    39.766082\n",
      "2    25.438596\n",
      "3    34.795322\n",
      "Name: Pclass, dtype: float64\n",
      "\n",
      "Survivor Difference:\n",
      "1    15.523658\n",
      "2     4.787643\n",
      "3   -20.311300\n",
      "Name: Pclass, dtype: float64\n"
     ]
    }
   ],
   "source": [
    "print(\"Passengers:\")\n",
    "print(social_class_stat)\n",
    "\n",
    "print(\"\\nSurvivors:\")\n",
    "print(survivor_social_class_stat)\n",
    "\n",
    "social_class_stat_diff = survivor_social_class_stat - social_class_stat\n",
    "\n",
    "print(\"\\nSurvivor Difference:\")\n",
    "print(social_class_stat_diff)"
   ]
  },
  {
   "cell_type": "markdown",
   "metadata": {},
   "source": [
    "The upper and lower class percentages vastly change from the passenger set to the survivor set, with the upper class accounting for almost 15% more of the survivors than of the passengers. They represented ~24% of the individuals in the passenger set, but represented ~40% of individuals in the survivor set. The opposite can be said for the lower class, which made up 55% of the original passengers, but only accounted for 34% of the survivors. The middle class percentage went up slightly."
   ]
  },
  {
   "cell_type": "code",
   "execution_count": 46,
   "metadata": {},
   "outputs": [
    {
     "data": {
      "text/plain": [
       "<matplotlib.text.Text at 0xda46630>"
      ]
     },
     "execution_count": 46,
     "metadata": {},
     "output_type": "execute_result"
    },
    {
     "data": {
      "image/png": "[encoded data removed]",
      "text/plain": [
       "<matplotlib.figure.Figure at 0xd768be0>"
      ]
     },
     "metadata": {},
     "output_type": "display_data"
    }
   ],
   "source": [
    "social_class_df = pd.DataFrame({\"Passenger\":social_class_stat,\n",
    "                                \"Survivor\":survivor_social_class_stat},\n",
    "                               columns=[\"Passenger\", \"Survivor\"])\n",
    "\n",
    "social_class_df.plot(kind=\"bar\",\n",
    "                     title=\"Social Class Comparison Between Passengers and Survivors\") \\\n",
    "    .set_xticklabels([\"Upper\", \"Middle\", \"Lower\"], rotation='horizontal')\n",
    "plt.ylabel(\"Percent %\")\n",
    "plt.xlabel(\"Social Class\")"
   ]
  },
  {
   "cell_type": "markdown",
   "metadata": {},
   "source": [
    "Visualized in a double bar graph, the change between the upper and lower class between passengers and survivors is made even more evident.\n",
    "\n",
    "However, one of the better ways to visualize this change might be with a negative-positve bar graph:"
   ]
  },
  {
   "cell_type": "code",
   "execution_count": 47,
   "metadata": {},
   "outputs": [
    {
     "data": {
      "text/plain": [
       "<matplotlib.text.Text at 0xdad4898>"
      ]
     },
     "execution_count": 47,
     "metadata": {},
     "output_type": "execute_result"
    },
    {
     "data": {
      "image/png": "[encoded data removed]",
      "text/plain": [
       "<matplotlib.figure.Figure at 0xcfddba8>"
      ]
     },
     "metadata": {},
     "output_type": "display_data"
    }
   ],
   "source": [
    "social_class_stat_diff.plot(kind=\"bar\", \n",
    "                            color=\"crimson\", \n",
    "                            title=\"Change in Social Class Percentages for Survivors\") \\\n",
    "    .set_xticklabels([\"Upper\", \"Middle\", \"Lower\"], rotation='horizontal'); plt.axhline(color=\"black\", lw=1)\n",
    "plt.ylabel(\"Percent %\")\n",
    "plt.xlabel(\"Social Class\")"
   ]
  },
  {
   "cell_type": "markdown",
   "metadata": {},
   "source": [
    "Based on the substantial change in social class distribution from the passengers to the survivors, it could be plausible that the individuals in the upper class had priority in getting onto a lifeboat, thus increasing their chances of survival and making them larger portion of the survivor dataset. The poor, though many in number, may have had less priority, thus lessening their chances of surviving."
   ]
  },
  {
   "cell_type": "markdown",
   "metadata": {
    "collapsed": true
   },
   "source": [
    "#### Fare Comparison"
   ]
  },
  {
   "cell_type": "code",
   "execution_count": 48,
   "metadata": {},
   "outputs": [
    {
     "name": "stdout",
     "output_type": "stream",
     "text": [
      "Passengers:\n",
      "count    891.000000\n",
      "mean      32.204208\n",
      "std       49.693429\n",
      "min        0.000000\n",
      "25%        7.910400\n",
      "50%       14.454200\n",
      "75%       31.000000\n",
      "max      512.329200\n",
      "Name: Fare, dtype: float64\n",
      "\n",
      "Survivors:\n",
      "count    342.000000\n",
      "mean      48.395408\n",
      "std       66.596998\n",
      "min        0.000000\n",
      "25%       12.475000\n",
      "50%       26.000000\n",
      "75%       57.000000\n",
      "max      512.329200\n",
      "Name: Fare, dtype: float64\n"
     ]
    }
   ],
   "source": [
    "print(\"Passengers:\")\n",
    "print(fare_stat)\n",
    "\n",
    "print(\"\\nSurvivors:\")\n",
    "print(survivor_fare_stat)"
   ]
  },
  {
   "cell_type": "markdown",
   "metadata": {},
   "source": [
    "The maximum and minimum fares are the same between sets, but the median and standard deviation on the survivor set is higher."
   ]
  },
  {
   "cell_type": "code",
   "execution_count": 49,
   "metadata": {},
   "outputs": [
    {
     "data": {
      "text/plain": [
       "<matplotlib.text.Text at 0xd73d048>"
      ]
     },
     "execution_count": 49,
     "metadata": {},
     "output_type": "execute_result"
    },
    {
     "data": {
      "image/png": "[encoded data removed]",
      "text/plain": [
       "<matplotlib.figure.Figure at 0xd9999e8>"
      ]
     },
     "metadata": {},
     "output_type": "display_data"
    }
   ],
   "source": [
    "fare_df = pd.DataFrame({\"Passenger\":titanic_df[\"Fare\"],\n",
    "                       \"Survivor\":survivor_df[\"Fare\"]},\n",
    "                      columns= [\"Passenger\",\n",
    "                              \"Survivor\"])\n",
    "\n",
    "fare_df.plot(kind='hist', \n",
    "             bins=16,\n",
    "             range=(0,200),\n",
    "             histtype=\"step\",\n",
    "             lw=2,\n",
    "             title=\"Fare Comparison Between Passengers and Survivors\")\n",
    "plt.xlabel(\"Age\")"
   ]
  },
  {
   "cell_type": "markdown",
   "metadata": {},
   "source": [
    "Visualized as a step histogram, the shape of the two sets are mostly the same, except for the frequency of fares less than 15. They are much higher for the passenger set compared to the survivor set."
   ]
  },
  {
   "cell_type": "code",
   "execution_count": 50,
   "metadata": {},
   "outputs": [
    {
     "data": {
      "text/plain": [
       "<matplotlib.text.Text at 0xe3fbeb8>"
      ]
     },
     "execution_count": 50,
     "metadata": {},
     "output_type": "execute_result"
    },
    {
     "data": {
      "image/png": "[encoded data removed]",
      "text/plain": [
       "<matplotlib.figure.Figure at 0xd249278>"
      ]
     },
     "metadata": {},
     "output_type": "display_data"
    }
   ],
   "source": [
    "sns.boxplot(data=fare_df, orient=\"h\",whis=2).set_title(\"Fare Comparison Between Passengers and Survivors\")\n",
    "plt.xlabel(\"Fare (Units)\")"
   ]
  },
  {
   "cell_type": "markdown",
   "metadata": {},
   "source": [
    "A boxplot visualiation does not show this difference. However, it does show the effect of the higher median and standard deviation of the survivor set. \n",
    "\n",
    "Does this data provide evidence that higher fares results in a better chance of surviving? While the data does show that the survivor group's fare was an average slightly higher, it is possible that this was due to chance. There is also the consideration that the \"Fare\" stat is not well documented from the original source. There is no evidence if to suggest how the fare is split between families, parties, or couples. Does one person pay and the other have a fare of zero? These limitations severly restrict the amount of experimentation that can be done and the validity of the conclusions made."
   ]
  },
  {
   "cell_type": "markdown",
   "metadata": {},
   "source": [
    "#### Embarkation Comparison"
   ]
  },
  {
   "cell_type": "code",
   "execution_count": 51,
   "metadata": {},
   "outputs": [
    {
     "name": "stdout",
     "output_type": "stream",
     "text": [
      "Passengers:\n",
      "0.0    72.278339\n",
      "1.0    18.855219\n",
      "2.0     8.641975\n",
      "Name: Embarked, dtype: float64\n",
      "\n",
      "Survivors:\n",
      "0.0    63.450292\n",
      "1.0    27.192982\n",
      "2.0     8.771930\n",
      "Name: Embarked, dtype: float64\n",
      "\n",
      "Survivor Difference:\n",
      "0.0   -8.828047\n",
      "1.0    8.337764\n",
      "2.0    0.129955\n",
      "Name: Embarked, dtype: float64\n"
     ]
    }
   ],
   "source": [
    "print(\"Passengers:\")\n",
    "print(embark_stat)\n",
    "\n",
    "print(\"\\nSurvivors:\")\n",
    "print(survivor_embark_stat)\n",
    "\n",
    "embark_stat_diff = survivor_embark_stat - embark_stat\n",
    "\n",
    "print(\"\\nSurvivor Difference:\")\n",
    "print(embark_stat_diff)"
   ]
  },
  {
   "cell_type": "raw",
   "metadata": {},
   "source": [
    "There was relatively little change in the embarkation percentages between the survivor and passenger groups. The port of leave, Southampton, decreased slightly in the survivor set, but still maintained the majority in both."
   ]
  },
  {
   "cell_type": "code",
   "execution_count": 52,
   "metadata": {},
   "outputs": [
    {
     "data": {
      "text/plain": [
       "<matplotlib.text.Text at 0xe569a58>"
      ]
     },
     "execution_count": 52,
     "metadata": {},
     "output_type": "execute_result"
    },
    {
     "data": {
      "image/png": "[encoded data removed]",
      "text/plain": [
       "<matplotlib.figure.Figure at 0xdbba400>"
      ]
     },
     "metadata": {},
     "output_type": "display_data"
    }
   ],
   "source": [
    "embark_df = pd.DataFrame({\"Passenger\":embark_stat,\n",
    "                          \"Survivor\":survivor_embark_stat},\n",
    "                               columns=[\"Passenger\", \"Survivor\"])\n",
    "\n",
    "embark_df.plot(kind=\"bar\", \n",
    "               title=\"Embarkation Comparison between Passengers and Survivors\") \\\n",
    "    .set_xticklabels([\"Upper\", \"Middle\", \"Lower\"], rotation='horizontal')\n",
    "plt.ylabel(\"Percent %\")\n",
    "plt.xlabel(\"Social Class\")"
   ]
  },
  {
   "cell_type": "markdown",
   "metadata": {},
   "source": [
    "The double bar graph above and the negative-postive bar graph below both further display the minute differences between the groups."
   ]
  },
  {
   "cell_type": "code",
   "execution_count": 53,
   "metadata": {},
   "outputs": [
    {
     "data": {
      "text/plain": [
       "<matplotlib.text.Text at 0xe761898>"
      ]
     },
     "execution_count": 53,
     "metadata": {},
     "output_type": "execute_result"
    },
    {
     "data": {
      "image/png": "[encoded data removed]",
      "text/plain": [
       "<matplotlib.figure.Figure at 0xe9050f0>"
      ]
     },
     "metadata": {},
     "output_type": "display_data"
    }
   ],
   "source": [
    "embark_stat_diff.plot(kind=\"bar\", \n",
    "                      color=\"crimson\", \n",
    "                      title=\"Change in Survivor Embarkation\") \\\n",
    "    .set_xticklabels([\"Upper\", \"Middle\", \"Lower\"], rotation='horizontal'); plt.axhline(color=\"black\", lw=1)\n",
    "plt.ylabel(\"Percent %\")\n",
    "plt.xlabel(\"Social Class\")"
   ]
  },
  {
   "cell_type": "markdown",
   "metadata": {
    "collapsed": true
   },
   "source": [
    "## Conclusion\n",
    "\n",
    "[[back to top]](#Introduction)"
   ]
  },
  {
   "cell_type": "markdown",
   "metadata": {},
   "source": [
    "### Review Questions\n",
    "\n",
    "1. What did the surviving group look like and were there any possible correlations between the variables and surviving?\n",
    "    2. Age:\n",
    "        * Were there specific age groups that had better chances of survival? Children? Older individuals?\n",
    "    3.  Gender:\n",
    "        * Were women prioritized for surviving over men, thus leading to a higher chance of survival?\n",
    "    * Social Class:\n",
    "        * What effects did social class have on one's chance of surviving?\n",
    "    * Port Embarkation:\n",
    "        * What ports had a larger percentage of their individuals survive?\n",
    "    * Fare:\n",
    "        * Did passengers that paid more for their ticket have a greater chance of surviving?"
   ]
  },
  {
   "cell_type": "markdown",
   "metadata": {},
   "source": [
    "### Findings"
   ]
  },
  {
   "cell_type": "markdown",
   "metadata": {},
   "source": [
    "**General**\n",
    "\n",
    "* Of the 891 passengers in this dataset, only 342 survived, or about 38.4%.\n",
    "* There were more men than women onboard, with women only accounting for ~35% of the total passenger count.\n",
    "* Age varied on the Titanic, from several months old to 80 years old. The average person was in their late 20s.\n",
    "* The average fare to board the Titanic was ~14.50 units of currency. One individual spent over 510 units.\n",
    "* Most passengers, about 72%, boarded the Titanic at Southampton, the ship's departure port.\n",
    "* The ship featured individuals from all social classes, but the majority were from the lower class.\n",
    "* Of those that survived, a majority of them were women, of the upper class, and from Southampton."
   ]
  },
  {
   "cell_type": "markdown",
   "metadata": {},
   "source": [
    "***\n",
    "\n",
    "**Were there specific age groups that had better chances of survival? Children? Older individuals?**\n",
    "\n",
    "Inital results suggest that the chances of survival were relatively the same for all ages. The shape of the survivor distribution was very similar to that of the passenger set, as can be seen below. Some future exploration can be specifically done with the younger ages, as there may be some significant differences between that group and the rest of the \"Age\" values."
   ]
  },
  {
   "cell_type": "code",
   "execution_count": 54,
   "metadata": {},
   "outputs": [
    {
     "data": {
      "text/plain": [
       "<matplotlib.text.Text at 0xe60fcf8>"
      ]
     },
     "execution_count": 54,
     "metadata": {},
     "output_type": "execute_result"
    },
    {
     "data": {
      "image/png": "[encoded data removed]",
      "text/plain": [
       "<matplotlib.figure.Figure at 0xe6c2be0>"
      ]
     },
     "metadata": {},
     "output_type": "display_data"
    }
   ],
   "source": [
    "age_df.plot(kind='hist', \n",
    "            bins=16,\n",
    "            range=(0,80), \n",
    "            histtype=\"step\", \n",
    "            lw=2,\n",
    "            title=\"Age Comparison Between Passengers and Survivors\")\n",
    "plt.xlabel(\"Age\")"
   ]
  },
  {
   "cell_type": "markdown",
   "metadata": {},
   "source": [
    "***\n",
    "\n",
    "**Were women prioritized for surviving over men, thus leading to a higher chance of survival?**\n",
    "\n",
    "Based on a chi-squared test, gender and survival were not considered independent of each other and thus are correlated. The data shows that the majority of survivors were women, completely opposite to the demographics of the passengers before the ship crashed."
   ]
  },
  {
   "cell_type": "code",
   "execution_count": 55,
   "metadata": {},
   "outputs": [
    {
     "data": {
      "text/plain": [
       "<matplotlib.text.Text at 0xcef2828>"
      ]
     },
     "execution_count": 55,
     "metadata": {},
     "output_type": "execute_result"
    },
    {
     "data": {
      "image/png": "[encoded data removed]",
      "text/plain": [
       "<matplotlib.figure.Figure at 0xed29ba8>"
      ]
     },
     "metadata": {},
     "output_type": "display_data"
    }
   ],
   "source": [
    "gender_df.plot(kind=\"bar\", title=\"Gender Comparison Between Passengers and Survivors\") \\\n",
    "    .set_xticklabels([\"Male\", \"Female\"], rotation='horizontal')\n",
    "plt.ylabel(\"Percent %\")\n",
    "plt.xlabel(\"Gender\")"
   ]
  },
  {
   "cell_type": "markdown",
   "metadata": {},
   "source": [
    "***\n",
    "\n",
    "**What effects did social class have on one's chance of surviving?**\n",
    "\n",
    "People in the lower class appear to have had a much lower chance of surviving than the upper class did. The surviving group had a higher percentage of upper class individuals, even though the lower class was the majority of the passengers before the ship crashed.\n",
    "\n",
    "Perhaps the upper class were given priority for getting onto the lifeboats because of their social status? Or perhaps the majority of the upper class were female, thus having a greater possibilty of surviving because of their gender rather than their class? On the flip side, maybe the lower class was made mostly of men? More investigation is required to statistically prove that surviving is correlated with social class."
   ]
  },
  {
   "cell_type": "code",
   "execution_count": 56,
   "metadata": {},
   "outputs": [
    {
     "data": {
      "text/plain": [
       "<matplotlib.text.Text at 0xe1d7710>"
      ]
     },
     "execution_count": 56,
     "metadata": {},
     "output_type": "execute_result"
    },
    {
     "data": {
      "image/png": "[encoded data removed]",
      "text/plain": [
       "<matplotlib.figure.Figure at 0xef6ba58>"
      ]
     },
     "metadata": {},
     "output_type": "display_data"
    }
   ],
   "source": [
    "social_class_stat_diff.plot(kind=\"bar\", \n",
    "                            color=\"crimson\", \n",
    "                            title=\"Change in Social Class Percentages for Survivors\") \\\n",
    "    .set_xticklabels([\"Upper\",\"Middle\", \"Lower\"], rotation='horizontal'); plt.axhline(color=\"black\", lw=1)\n",
    "plt.ylabel(\"Percent %\")\n",
    "plt.xlabel(\"Social Class\")"
   ]
  },
  {
   "cell_type": "markdown",
   "metadata": {},
   "source": [
    "***\n",
    "\n",
    "**What ports had a larger percentage of their individuals survive?**\n",
    "\n",
    "Although the percentage of individuals from Southampton dropped between the passenger group and the survivors, Southampton still accounted for the largest percentage of those who survived the Titanic at ~64%. There does not appear to be any major differences between the passengers and the survivors."
   ]
  },
  {
   "cell_type": "code",
   "execution_count": 57,
   "metadata": {},
   "outputs": [
    {
     "data": {
      "text/plain": [
       "<matplotlib.text.Text at 0xf2f7780>"
      ]
     },
     "execution_count": 57,
     "metadata": {},
     "output_type": "execute_result"
    },
    {
     "data": {
      "image/png": "[encoded data removed]",
      "text/plain": [
       "<matplotlib.figure.Figure at 0xef994e0>"
      ]
     },
     "metadata": {},
     "output_type": "display_data"
    }
   ],
   "source": [
    "embark_df.plot(kind=\"bar\", \n",
    "               title=\"Embarkation Comparison between Passengers and Survivors\") \\\n",
    "    .set_xticklabels([\"Southampton\", \"Cherbourg\", \"Queenstown\"], rotation='horizontal')\n",
    "plt.xlabel(\"Embarkation Port\")\n",
    "plt.ylabel(\"Percent %\")"
   ]
  },
  {
   "cell_type": "markdown",
   "metadata": {},
   "source": [
    "***\n",
    "\n",
    "**Did passengers that paid more for their ticket have a greater chance of surviving?**\n",
    "\n",
    "There did not appear to be any major differences between the fare data for survivors or passengers, but these conclusions should be taken lightly. There are several problems with the values of this variables that could introduct a lot interference with the results. Although the median was a bit higher in the survivor group, this could be due to chance, and may not be significant enough to show that they are correlated. "
   ]
  },
  {
   "cell_type": "code",
   "execution_count": 58,
   "metadata": {},
   "outputs": [
    {
     "data": {
      "text/plain": [
       "<matplotlib.text.Text at 0xf1c6cc0>"
      ]
     },
     "execution_count": 58,
     "metadata": {},
     "output_type": "execute_result"
    },
    {
     "data": {
      "image/png": "[encoded data removed]",
      "text/plain": [
       "<matplotlib.figure.Figure at 0xe6b8128>"
      ]
     },
     "metadata": {},
     "output_type": "display_data"
    }
   ],
   "source": [
    "sns.boxplot(data=fare_df, orient=\"h\",whis=2).set_title(\"Fare Comparison Between Passengers and Survivors\")\n",
    "plt.xlabel(\"Fare (Units)\")"
   ]
  },
  {
   "cell_type": "markdown",
   "metadata": {
    "collapsed": true
   },
   "source": [
    "### Limitations\n",
    "\n",
    "No dataset or analysis is ever perfect, including this one. It is important to consider all of the limitations of an analysis in order to have a proper understanding of the applicability of the conclusions.\n",
    "\n",
    "**Missing values**\n",
    "   * From the Data Wrangling section, it was clear that some variables, such as Age and Cabin, were missing a bunch of valuable data from the sample. It is important to consider that the \"Age\" data that was explored in this analysis may not have provided the full picture, especially if the missing age records were systematically lost due to some unknown variables.\n",
    "    \n",
    "**Lack of details for the fare data**\n",
    "   * This variable is very tricky to draw conclusions from because of the lack of information about the variable. There is no documentation on how fares were calculated between familes, parties, and couples. What if children were admitted for free under a certain age? None of these details were included in the data, thus making the conclusions that were made about this variable limited.\n",
    "   \n",
    "**The dataset is a sample of the larger Titanic passenger population**\n",
    "   * As mentioned earlier in the analysis, the dataset used in this project is only a piece of the greater Titanic population. Because of this, the analysis may be missing some crucial pieces of the puzzle. What if the the rest of the population that was missing for the sample had died (which is why the data couldn't be collected)? This information would drastically change the survival percentages, and thus the conclusions that were made from them as well.\n",
    "   \n",
    "**Not all conclusions were validated by rigorous statistics tests**\n",
    "   * Some of the findings in these project can not be taken as statistically proven,  no matter how convincing the argument may seem. The only finding that was substantiated statistically was the correlation between gender and survival, which was validated by the chi-squared test"
   ]
  },
  {
   "cell_type": "markdown",
   "metadata": {},
   "source": [
    "### Resources\n",
    "\n",
    "[[back to top]](#Introduction)\n",
    "* Webpage\n",
    "    * [Titanic Wiki](https://en.wikipedia.org/wiki/RMS_Titanic)   \n",
    "* Documentation\n",
    "    * [matplotlib Documentation](http://matplotlib.org/) \n",
    "    * [pandas Documentation](http://pandas.pydata.org/pandas-docs/stable/index.html)\n",
    "    * [seaborn Documentation](https://seaborn.pydata.org/)   \n",
    "* Blog/Forums\n",
    "    * [Blog Post on using Chi-Square in Python](http://hamelg.blogspot.com/2015/11/python-for-data-analysis-part-25-chi.html)   \n",
    "    * [Box Plot flier fix for seaborn](https://stackoverflow.com/questions/28908003/matplotlib-box-plot-fliers-not-showing)   \n",
    "    * [Help on assigning seaborn labels](https://stackoverflow.com/questions/31632637/label-axes-on-seaborn-barplot)   "
   ]
  }
 ],
 "metadata": {
  "kernelspec": {
   "display_name": "Python (DAND)",
   "language": "python",
   "name": "dand"
  },
  "language_info": {
   "codemirror_mode": {
    "name": "ipython",
    "version": 2
   },
   "file_extension": ".py",
   "mimetype": "text/x-python",
   "name": "python",
   "nbconvert_exporter": "python",
   "pygments_lexer": "ipython2",
   "version": "2.7.13"
  }
 },
 "nbformat": 4,
 "nbformat_minor": 2
}
